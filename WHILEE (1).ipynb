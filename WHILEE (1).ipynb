{
  "nbformat": 4,
  "nbformat_minor": 0,
  "metadata": {
    "colab": {
      "provenance": []
    },
    "kernelspec": {
      "name": "python3",
      "display_name": "Python 3"
    },
    "language_info": {
      "name": "python"
    }
  },
  "cells": [
    {
      "cell_type": "code",
      "source": [
        "nota = float(input(\"Digite uma nota entre zero e dez: \"))\n",
        "while nota < 0 or nota > 10:\n",
        "  nota = float(input(\"Digite uma Nota Válida: \"))\n",
        "print(\"Nota Válida\")"
      ],
      "metadata": {
        "id": "X3eJnq1mGUmY"
      },
      "execution_count": null,
      "outputs": []
    },
    {
      "cell_type": "code",
      "source": [
        "nome = input(\"Digite Seu Nome: \")\n",
        "senha = input(\"Digite Sua Senha: \")\n",
        "\n",
        "while senha == nome:\n",
        "  print(\"Erro\")\n",
        "\n",
        "  nome =  input(\"Digite Seu Nome Novamente: \")\n",
        "  senha = input(\"Digite Sua Senha Novamente: \")\n",
        "  print(\"Acesso Aprovado!\")"
      ],
      "metadata": {
        "id": "fhjqBp0FHojO"
      },
      "execution_count": null,
      "outputs": []
    },
    {
      "cell_type": "code",
      "source": [
        "numero = 1\n",
        "\n",
        "while numero <= 10:\n",
        "    print(numero)\n",
        "\n",
        "    numero += 1"
      ],
      "metadata": {
        "id": "0RW_So9wOCMU"
      },
      "execution_count": null,
      "outputs": []
    },
    {
      "cell_type": "code",
      "source": [
        "numero = 2\n",
        "\n",
        "while numero <= 20:\n",
        "    print(numero)\n",
        "\n",
        "    numero += 2"
      ],
      "metadata": {
        "id": "h2_mHDESTyMS"
      },
      "execution_count": null,
      "outputs": []
    },
    {
      "cell_type": "code",
      "source": [
        "numero = int(input(\"Insira um número: \"))\n",
        "\n",
        "contador = 1\n",
        "\n",
        "while contador <= numero:\n",
        "    print(contador)\n",
        "    contador += 1"
      ],
      "metadata": {
        "id": "GPaL6mKXU2F7"
      },
      "execution_count": null,
      "outputs": []
    },
    {
      "cell_type": "code",
      "source": [
        "numero = int(input(\"Insira um número: \"))\n",
        "\n",
        "contador = 2\n",
        "\n",
        "while contador <= numero:\n",
        "    print(contador)\n",
        "    contador += 2"
      ],
      "metadata": {
        "id": "Zq-QiDQvWk9x"
      },
      "execution_count": null,
      "outputs": []
    },
    {
      "cell_type": "code",
      "source": [
        "numero = int(input(\"Digite um Número: \"))\n",
        "\n",
        "contador = 1\n",
        "\n",
        "while contador <= 10:\n",
        "  resultado = numero * contador\n",
        "  print(f\"{numero} x {contador} = {resultado}\")\n",
        "  contador += 1"
      ],
      "metadata": {
        "id": "4-LM2NROW7Sp"
      },
      "execution_count": null,
      "outputs": []
    },
    {
      "cell_type": "code",
      "source": [
        "senhacorreta = 1234\n",
        "\n",
        "senha = int(input(\"Digite Uma Senha: \"))\n",
        "\n",
        "while senha > senhacorreta or senha < senhacorreta:\n",
        "  print(\"Acesso Negado\")\n",
        "\n",
        "  senha = int(input(\"Digite Senha Novamente: \"))\n",
        "  print(\"Acesso Aprovado\")"
      ],
      "metadata": {
        "id": "j7KYJrczYSbX"
      },
      "execution_count": null,
      "outputs": []
    },
    {
      "cell_type": "code",
      "source": [
        "soma = 0\n",
        "contador = 0\n",
        "\n",
        "print(\"Digite Alguns Números. Digite 'Pronto' Para Terminar.\") # Para Dar Sentido ao Código e Ter um Meio De PARAR o Código\n",
        "numero = input(\"Digite um Número ou 'Pronto' Para Terminar: \")\n",
        "\n",
        "while numero != \"Pronto\" and numero != \"pronto\": # Enquanto Não Dar a Instrução Para PARAR\n",
        "    soma += float(numero) # Estou Avisando Que é um Número\n",
        "    contador += 1\n",
        "    numero = input(\"Digite um Número ou 'Pronto' Para Terminar: \")\n",
        "\n",
        "if contador > 0: # VERIFICAÇÃO\n",
        "    media = soma / contador\n",
        "    print(\"A Média Dos Números é:\", media)"
      ],
      "metadata": {
        "id": "rmWA9n8Fj87y"
      },
      "execution_count": null,
      "outputs": []
    },
    {
      "cell_type": "code",
      "source": [
        "soma = 0\n",
        "contador = 0\n",
        "\n",
        "print(\"Digite Alguns Números. Digite 'Pronto' Para Terminar.\") # Para Dar Sentido ao Código e Ter um Meio De PARAR o Código\n",
        "numero = input(\"Digite um Número ou 'Pronto' para Terminar: \")\n",
        "\n",
        "while numero != \"Pronto\" and numero != \"pronto\": # Enquanto Não Dar a Instrução Para PARAR\n",
        "    soma += float(numero) # Estou Avisando Que é um Número\n",
        "    contador += 1\n",
        "    numero = input(\"Digite um Número ou 'Pronto' para Terminar: \")\n",
        "\n",
        "print(\"A Soma Dos Números é:\", soma)"
      ],
      "metadata": {
        "id": "_GG6uWLgifUI"
      },
      "execution_count": null,
      "outputs": []
    },
    {
      "cell_type": "code",
      "source": [
        "print(\"Digite Alguns Números. Digite um Número Negativo Para Terminar.\")\n",
        "numero = float(input(\"Digite um Número. Digite um Número Negativo Para Terminar: \"))\n",
        "\n",
        "maiornumero = numero\n",
        "\n",
        "while numero >= 0:\n",
        "\n",
        "    if numero > maiornumero:\n",
        "        maiornumero = numero\n",
        "\n",
        "    numero = float(input(\"Digite um Número. Digite um Número Negativo Para Terminar: \"))\n",
        "\n",
        "print(\"O Maior Número é:\", maiornumero)"
      ],
      "metadata": {
        "id": "GHuGUNbH4kz0"
      },
      "execution_count": null,
      "outputs": []
    }
  ]
}